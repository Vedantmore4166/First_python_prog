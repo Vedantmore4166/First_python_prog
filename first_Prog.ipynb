{
  "metadata": {
    "kernelspec": {
      "name": "python",
      "display_name": "Python (Pyodide)",
      "language": "python"
    },
    "language_info": {
      "codemirror_mode": {
        "name": "python",
        "version": 3
      },
      "file_extension": ".py",
      "mimetype": "text/x-python",
      "name": "python",
      "nbconvert_exporter": "python",
      "pygments_lexer": "ipython3",
      "version": "3.8"
    }
  },
  "nbformat_minor": 4,
  "nbformat": 4,
  "cells": [
    {
      "cell_type": "code",
      "source": "# creating a list\nmy_list =[1,2,3,4,5,6]\n\n# adding a element in list\nmy_list.append(7)\n\n#removing a element from the list\nmy_list.remove(3)\n\n#modifying an element in list\nmy_list[0]=10\n\nprint(\"updated list:\", my_list)\n",
      "metadata": {
        "trusted": true
      },
      "outputs": [
        {
          "name": "stdout",
          "text": "updated list: [10, 2, 4, 5, 6, 7]\n",
          "output_type": "stream"
        }
      ],
      "execution_count": 6
    },
    {
      "cell_type": "code",
      "source": "#creating a dictionery\nmy_dictionary={'name':'raj', 'age':25, 'city':'satara'}\n\n#adding in dictionary\nmy_dictionary['gender']='male'\n\n#removing a key value pair from dic\n\ndel my_dictionary ['age']\n\n#modifying a value in dic\n\nmy_dictionary['city']='mumbai'\n\nprint(\"updated dictionary:\", my_dictionary)",
      "metadata": {
        "trusted": true
      },
      "outputs": [
        {
          "name": "stdout",
          "text": "updated dictionary: {'name': 'raj', 'city': 'mumbai', 'gender': 'male'}\n",
          "output_type": "stream"
        }
      ],
      "execution_count": 7
    },
    {
      "cell_type": "code",
      "source": "#creating a set\n\nmy_set ={ 1,2,3,4,5,6}\n# adding in a set\n\nmy_set.add(9)\n\n#removign from set\n\nmy_set.remove(4)\n\n#modifying a set\nmy_set.discard(1)\nmy_set.add(10)\nprint(\"updated set:\", my_set)\n",
      "metadata": {
        "trusted": true
      },
      "outputs": [
        {
          "name": "stdout",
          "text": "updated set: {2, 3, 5, 6, 9, 10}\n",
          "output_type": "stream"
        }
      ],
      "execution_count": 8
    },
    {
      "cell_type": "code",
      "source": "",
      "metadata": {
        "trusted": true
      },
      "outputs": [],
      "execution_count": null
    }
  ]
}